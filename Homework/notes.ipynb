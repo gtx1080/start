{
 "cells": [
  {
   "cell_type": "markdown",
   "metadata": {},
   "source": [
    "# Chapter 1"
   ]
  },
  {
   "cell_type": "markdown",
   "metadata": {},
   "source": [
    "A computer does two things, and two things only: it performs calculations and it\n",
    "remembers the results of those calculations.<br>\n",
    "All knowledge can be thought of as either declarative or imperative. Declarative\n",
    "knowledge is composed of statements of fact.<br>\n",
    "Imperative knowledge is “how to” knowledge, or recipes for deducing\n",
    "information. Heron of Alexandria was the first to document a way to compute\n",
    "the square root of a number."
   ]
  },
  {
   "cell_type": "markdown",
   "metadata": {},
   "source": [
    "# Chapter 2"
   ]
  },
  {
   "cell_type": "markdown",
   "metadata": {},
   "source": [
    "Objects are the core things that Python programs manipulate. Every object has\n",
    "a type that defines the kinds of things that programs can do with objects of that\n",
    "type.<br>\n",
    "Types are either scalar or non-scalar. Scalar objects are indivisible. Think of\n",
    "them as the atoms of the language.7 Non-scalar objects, for example strings,\n",
    "have internal structure.<br>\n",
    "The symbol >>> is a shell prompt indicating that the interpreter is expecting the\n",
    "user to type some Python code into the shell. The line below the line with the\n",
    "prompt is produced when the interpreter evaluates the Python code entered at\n",
    "the prompt, as illustrated by the following interaction with the interpreter:"
   ]
  },
  {
   "cell_type": "code",
   "execution_count": 4,
   "metadata": {},
   "outputs": [
    {
     "name": "stdout",
     "output_type": "stream",
     "text": [
      "x = 3\n",
      "y = 2\n"
     ]
    }
   ],
   "source": [
    "x, y = 2, 3\n",
    "x, y = y, x\n",
    "print( 'x =', x)\n",
    "print( 'y =', y)"
   ]
  },
  {
   "cell_type": "markdown",
   "metadata": {},
   "source": [
    "In Python, a conditional statement has the form<br>\n",
    "if Boolean expression:<br>\n",
    "    block of code<br>\n",
    "else:<br>\n",
    "    block of code<br>"
   ]
  },
  {
   "cell_type": "code",
   "execution_count": 7,
   "metadata": {},
   "outputs": [
    {
     "name": "stdout",
     "output_type": "stream",
     "text": [
      "2\n",
      "Divisible by 2 and not by 3\n"
     ]
    }
   ],
   "source": [
    "x=eval(input())\n",
    "if x%2 == 0:\n",
    "    if x%3 == 0:\n",
    "        print ('Divisible by 2 and 3')\n",
    "    else:\n",
    "        print( 'Divisible by 2 and not by 3')\n",
    "elif x%3 == 0:\n",
    "    print ('Divisible by 3 and not by 2')"
   ]
  },
  {
   "attachments": {},
   "cell_type": "markdown",
   "metadata": {},
   "source": [
    "Objects of type str are used to represent strings of characters.11 Literals of type\n",
    "str can be written using either single or double quotes, e.g., 'abc' or \"abc\".<br>\n",
    "The literal '123' denotes a string of characters, not the number one hundred\n",
    "twenty-three.<br>\n",
    "Indexing can be used to extract individual characters from a string. In Python,\n",
    "all indexing is zero-based.<br>\n",
    "Slicing is used to extract substrings of arbitrary length.<br>\n",
    "Iteration: If the test evaluates to True,\n",
    "the program executes the loop body once, and then goes back to reevaluate the\n",
    "test. This process is repeated until the test evaluates to False, after which\n",
    "control passes to the code following the iteration statement."
   ]
  },
  {
   "cell_type": "code",
   "execution_count": 10,
   "metadata": {},
   "outputs": [
    {
     "name": "stdout",
     "output_type": "stream",
     "text": [
      "3*3 = 9\n"
     ]
    }
   ],
   "source": [
    "x = 3\n",
    "ans = 0\n",
    "itersLeft = x\n",
    "while (itersLeft != 0):\n",
    "    ans = ans + x\n",
    "    itersLeft = itersLeft - 1\n",
    "print(str(x) + '*' + str(x) + ' = ' + str(ans))"
   ]
  },
  {
   "cell_type": "markdown",
   "metadata": {},
   "source": [
    "# Chapter 3"
   ]
  },
  {
   "cell_type": "code",
   "execution_count": 14,
   "metadata": {},
   "outputs": [
    {
     "name": "stdout",
     "output_type": "stream",
     "text": [
      "Enter an integer: 2\n",
      "2 is not a perfect cube\n",
      "Cube root of 2 is 2\n"
     ]
    }
   ],
   "source": [
    "x = int(input('Enter an integer: '))\n",
    "ans = 0\n",
    "while ans**3 < abs(x):\n",
    "    ans = ans + 1\n",
    "if ans**3 != abs(x):\n",
    "    print( x, 'is not a perfect cube')\n",
    "else:\n",
    "    if x < 0:\n",
    "        ans = -ans\n",
    "print( 'Cube root of', x,'is', ans)"
   ]
  },
  {
   "cell_type": "markdown",
   "metadata": {},
   "source": [
    "The general form of a for statement is (recall that the words in italics are\n",
    "descriptions of what can appear, not actual code):<br>\n",
    "    for variable in sequence:<br>\n",
    "code block<br>"
   ]
  },
  {
   "cell_type": "code",
   "execution_count": 16,
   "metadata": {},
   "outputs": [
    {
     "name": "stdout",
     "output_type": "stream",
     "text": [
      "0\n",
      "1\n",
      "2\n",
      "3\n",
      "0\n",
      "1\n",
      "0\n",
      "1\n",
      "0\n",
      "1\n"
     ]
    }
   ],
   "source": [
    "x = 4\n",
    "for j in range(x):\n",
    "    for i in range(x):\n",
    "        print (i)\n",
    "        x = 2"
   ]
  },
  {
   "cell_type": "markdown",
   "metadata": {},
   "source": [
    "because the range function in the outer loop is evaluated only once, but the\n",
    "range function in the inner loop is evaluated each time the inner for statement\n",
    "is reached."
   ]
  },
  {
   "cell_type": "code",
   "execution_count": 19,
   "metadata": {},
   "outputs": [
    {
     "name": "stdout",
     "output_type": "stream",
     "text": [
      "numGuesses = 49990\n",
      "4.999000000001688 is close to square root of 25\n"
     ]
    }
   ],
   "source": [
    "x = 25\n",
    "epsilon = 0.01\n",
    "step = epsilon**2\n",
    "numGuesses = 0\n",
    "ans = 0.0\n",
    "while abs(ans**2 - x) >= epsilon and ans <= x:\n",
    "    ans += step\n",
    "    numGuesses += 1\n",
    "print ('numGuesses =', numGuesses)\n",
    "if abs(ans**2 - x) >= epsilon:\n",
    "    print ('Failed on square root of', x)\n",
    "else:\n",
    "    print (ans, 'is close to square root of', x)"
   ]
  },
  {
   "cell_type": "markdown",
   "metadata": {},
   "source": [
    "Notice that this method for\n",
    "finding the square root has nothing in common with the way of finding square\n",
    "roots using a pencil that you might have learned in middle school. It is often the\n",
    "case that the best way to solve a problem with a computer is quite different from\n",
    "how one would approach the problem by hand."
   ]
  },
  {
   "cell_type": "markdown",
   "metadata": {},
   "source": [
    "For any constant k and any coefficient c, the first derivative of cx2 + k is 2cx. For\n",
    "example, the first derivative of x2 – k is 2x. Therefore, we know that we can\n",
    "improve on the current guess, call it y, by choosing as our next guess\n",
    "y - (y2 - k)/2y. This is called successive approximation."
   ]
  },
  {
   "cell_type": "code",
   "execution_count": 21,
   "metadata": {},
   "outputs": [
    {
     "name": "stdout",
     "output_type": "stream",
     "text": [
      "Square root of 24.0 is about 4.8989887432139305\n"
     ]
    }
   ],
   "source": [
    "epsilon = 0.01\n",
    "k = 24.0\n",
    "guess = k/2.0\n",
    "while abs(guess*guess - k) >= epsilon:\n",
    "    guess = guess - (((guess**2) - k)/(2*guess))\n",
    "print ('Square root of', k, 'is about', guess)"
   ]
  }
 ],
 "metadata": {
  "kernelspec": {
   "display_name": "Python 3",
   "language": "python",
   "name": "python3"
  },
  "language_info": {
   "codemirror_mode": {
    "name": "ipython",
    "version": 3
   },
   "file_extension": ".py",
   "mimetype": "text/x-python",
   "name": "python",
   "nbconvert_exporter": "python",
   "pygments_lexer": "ipython3",
   "version": "3.6.6"
  }
 },
 "nbformat": 4,
 "nbformat_minor": 2
}
